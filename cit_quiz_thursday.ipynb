{
  "cells": [
    {
      "cell_type": "code",
      "source": [
        "# 1. Which statement is a Tuple?\n",
        "(\"Jim\", \"Jack\", \"Bill\")"
      ],
      "metadata": {
        "id": "ukVSSeAQDPYU"
      },
      "execution_count": null,
      "outputs": []
    },
    {
      "cell_type": "code",
      "source": [
        "# 2. Which one is a Float?\n",
        "2.0"
      ],
      "metadata": {
        "id": "piS9jIRvDU7R"
      },
      "execution_count": null,
      "outputs": []
    },
    {
      "cell_type": "code",
      "source": [
        "# 3. Create a dictionary that prints out keys and values.\n",
        "d = {\"name\": \"Jim\", \"age\": \"25\", \"city\": \"New York\"}\n",
        "for key, value in d.items():\n",
        "    print(f\"{key} : {value}\")"
      ],
      "metadata": {
        "id": "sslO53BWDadq"
      },
      "execution_count": null,
      "outputs": []
    },
    {
      "cell_type": "code",
      "source": [
        "# 4. Create a class function of your top 3 Music Artist.\n",
        "class MusicArtist:\n",
        "    def __init__(self, name, genre, age):\n",
        "        self.name = name\n",
        "        self.genre = genre\n",
        "        self.age = age\n",
        "    def info(self):\n",
        "        print(f\"{self.name} is a {self.genre} artist, and is {self.age} years old.\")\n",
        "\n",
        "artist_1 = MusicArtist(\"Jim\", \"Rock\", \"25\")\n",
        "artist_1.info()\n",
        "artist_2 = MusicArtist(\"Jack\", \"Pop\", \"30\")\n",
        "artist_2.info()\n",
        "artist_3 = MusicArtist(\"Bill\", \"Jazz\", \"40\")"
      ],
      "metadata": {
        "id": "TSx1on7FDd5m"
      },
      "execution_count": null,
      "outputs": []
    },
    {
      "cell_type": "code",
      "source": [
        "# 5. Create a bubblesort Algorithm\n",
        "def bubble_sort(array: list) -> list:\n",
        "    \"\"\"\n",
        "    This function takes in a list and sorts it using the bubble sort algorithm.\n",
        "    :param array\n",
        "    :return sorted array\n",
        "    \"\"\"\n",
        "     # check if the list is empty\n",
        "    if len(array) == 0:\n",
        "        raise ValueError(\"The list to be sorted cannot be empty.\")\n",
        "    # check if the list contains only numbers\n",
        "    for number in array:\n",
        "        if not isinstance(number, int):\n",
        "            raise ValueError(\"Invalid Number\")\n",
        "    # sort the list\n",
        "    for i in range(len(array)):\n",
        "        swapped = False\n",
        "        for j in range(len(array) - i - 1):\n",
        "            if array[j] > array[j + 1]:\n",
        "                array[j], array[j + 1] = array[j + 1], array[j]\n",
        "                swapped = True\n",
        "        if not swapped:\n",
        "            break\n",
        "    return array\n",
        "\n",
        "print(bubble_sort([12, 65, 1, 34, 100]))"
      ],
      "metadata": {
        "id": "FD_XLKurDjT6"
      },
      "execution_count": null,
      "outputs": []
    },
    {
      "cell_type": "code",
      "source": [
        "# 6. Create an array and reshape it to 6-D array\n",
        "import numpy as np\n",
        "\n",
        "def create_3D_array() -> np.array:\n",
        "    \"\"\"\n",
        "    This function creates a  3D array.\n",
        "    :param array\n",
        "    :return reshaped array\n",
        "    \"\"\"\n",
        "    array = np.array([[1, 2, 3], [4, 5, 6], [7, 8, 9]])\n",
        "    return array.reshape(3, 3, 1)\n",
        "\n",
        "def reshape_to_six_dimensions(array: np.array) -> np.array:\n",
        "    \"\"\"\n",
        "    This function reshapes a 3D array to 6-D array.\n",
        "    :param array\n",
        "    :return reshaped array\n",
        "    \"\"\"\n",
        "    return array.reshape(1, 3, 3, 1)\n",
        "\n",
        "print(create_3D_array())"
      ],
      "metadata": {
        "id": "g_1nR5pPDo3H"
      },
      "execution_count": null,
      "outputs": []
    },
    {
      "cell_type": "code",
      "source": [
        "# 7. Which symbol returns a remainder?\n",
        "%"
      ],
      "metadata": {
        "id": "1hbYwmm-DrAq"
      },
      "execution_count": null,
      "outputs": []
    },
    {
      "cell_type": "code",
      "source": [
        "# 8. Create a function that prints out only odd numbers,\n",
        "odd_numbers = lambda x: x % 2 != 0\n",
        "for number in range(1, 10):\n",
        "    if odd_numbers(number):\n",
        "        print(number)"
      ],
      "metadata": {
        "id": "VQi8-TRVDxd-"
      },
      "execution_count": null,
      "outputs": []
    },
    {
      "cell_type": "code",
      "source": [
        "# 9. Which statement gives you a syntax error?\n",
        "# return True\n"
      ],
      "metadata": {
        "id": "hjONNaj4D1tc"
      },
      "execution_count": null,
      "outputs": []
    },
    {
      "cell_type": "code",
      "source": [
        "# 10. Create a list and find the total sum of the list.\n",
        "def sum_list(array: list) -> int:\n",
        "    \"\"\"\n",
        "    This function takes in a list and returns the sum of the list.\n",
        "    :param array\n",
        "    :return sum of the list\n",
        "    \"\"\"\n",
        "    return sum(array)\n",
        "\n",
        "def create_list() -> list:\n",
        "    import random\n",
        "    \"\"\"\n",
        "    This function creates a list.\n",
        "    :return list\n",
        "    \"\"\"\n",
        "    return [random.randint(1, 100) for _ in range(10)]\n",
        "\n",
        "print(sum_list(create_list()))"
      ],
      "metadata": {
        "id": "bctW-pFXD6nq"
      },
      "execution_count": null,
      "outputs": []
    },
    {
      "cell_type": "code",
      "execution_count": null,
      "metadata": {
        "id": "8CStOlNiDHeE"
      },
      "outputs": [],
      "source": [
        "# 11. Create a \"T\" shape object using the letter \"T\"\n",
        "def create_T_shape(letter: str) -> str:\n",
        "    \"\"\"\n",
        "    This function creates a \"T\" shape object.\n",
        "    :param letter\n",
        "    :return \"T\" shape object\n",
        "    \"\"\"\n",
        "    output = \"\"\n",
        "    for i in range(8):\n",
        "        if i == 0:\n",
        "            output += letter * 7\n",
        "        else:\n",
        "            output += \"   \" + letter + \"   \"\n",
        "        output += \"\\n\"\n",
        "    return output\n",
        "\n",
        "print(create_T_shape(\"T\"))\n"
      ]
    }
  ],
  "metadata": {
    "language_info": {
      "name": "python"
    },
    "orig_nbformat": 4,
    "colab": {
      "name": "Copy of cit_quiz_thursday.ipynb",
      "provenance": []
    }
  },
  "nbformat": 4,
  "nbformat_minor": 0
}