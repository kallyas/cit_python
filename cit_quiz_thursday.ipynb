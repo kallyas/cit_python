{
  "cells": [
    {
      "cell_type": "code",
      "execution_count": null,
      "metadata": {
        "id": "ukVSSeAQDPYU"
      },
      "outputs": [],
      "source": [
        "# 1. Which statement is a Tuple?\n",
        "(\"Jim\", \"Jack\", \"Bill\")"
      ]
    },
    {
      "cell_type": "code",
      "execution_count": null,
      "metadata": {
        "id": "piS9jIRvDU7R"
      },
      "outputs": [],
      "source": [
        "# 2. Which one is a Float?\n",
        "2.0"
      ]
    },
    {
      "cell_type": "code",
      "execution_count": null,
      "metadata": {
        "id": "sslO53BWDadq"
      },
      "outputs": [],
      "source": [
        "# 3. Create a dictionary that prints out keys and values.\n",
        "d = {\"name\": \"Jim\", \"age\": \"25\", \"city\": \"New York\"}\n",
        "for key, value in d.items():\n",
        "    print(f\"{key} : {value}\")"
      ]
    },
    {
      "cell_type": "code",
      "execution_count": null,
      "metadata": {
        "id": "TSx1on7FDd5m"
      },
      "outputs": [],
      "source": [
        "# 4. Create a class function of your top 3 Music Artist.\n",
        "class MusicArtist:\n",
        "    def __init__(self, name, genre, age):\n",
        "        self.name = name\n",
        "        self.genre = genre\n",
        "        self.age = age\n",
        "    def info(self):\n",
        "        print(f\"{self.name} is a {self.genre} artist, and is {self.age} years old.\")\n",
        "\n",
        "artist_1 = MusicArtist(\"Jim\", \"Rock\", \"25\")\n",
        "artist_1.info()\n",
        "artist_2 = MusicArtist(\"Jack\", \"Pop\", \"30\")\n",
        "artist_2.info()\n",
        "artist_3 = MusicArtist(\"Bill\", \"Jazz\", \"40\")\n",
        "artist_3.info()"
      ]
    },
    {
      "cell_type": "code",
      "execution_count": null,
      "metadata": {
        "id": "FD_XLKurDjT6"
      },
      "outputs": [],
      "source": [
        "# 5. Create a bubblesort Algorithm\n",
        "def bubble_sort(array: list) -> list:\n",
        "    \"\"\"\n",
        "    This function takes in a list and sorts it using the bubble sort algorithm.\n",
        "    :param array\n",
        "    :return sorted array\n",
        "    \"\"\"\n",
        "     # check if the list is empty\n",
        "    if len(array) == 0:\n",
        "        raise ValueError(\"The list to be sorted cannot be empty.\")\n",
        "    # check if the list contains only numbers\n",
        "    for number in array:\n",
        "        if not isinstance(number, int):\n",
        "            raise ValueError(\"Invalid Number\")\n",
        "    # sort the list\n",
        "    for i in range(len(array)):\n",
        "        swapped = False\n",
        "        for j in range(len(array) - i - 1):\n",
        "            if array[j] > array[j + 1]:\n",
        "                array[j], array[j + 1] = array[j + 1], array[j]\n",
        "                swapped = True\n",
        "        if not swapped:\n",
        "            break\n",
        "    return array\n",
        "\n",
        "print(bubble_sort([12, 65, 1, 34, 100]))"
      ]
    },
    {
      "cell_type": "code",
      "execution_count": null,
      "metadata": {
        "id": "g_1nR5pPDo3H"
      },
      "outputs": [],
      "source": [
        "# 6. Create an array and reshape it to 6-D array\n",
        "import numpy as np\n",
        "\n",
        "def create_3D_array() -> np.array:\n",
        "    \"\"\"\n",
        "    This function creates a  3D array.\n",
        "    :param array\n",
        "    :return reshaped array\n",
        "    \"\"\"\n",
        "    array = np.array([[1, 2, 3], [4, 5, 6], [7, 8, 9]])\n",
        "    return array.reshape(3, 3, 1)\n",
        "\n",
        "def reshape_to_six_dimensions(array: np.array) -> np.array:\n",
        "    \"\"\"\n",
        "    This function reshapes a 3D array to 6-D array.\n",
        "    :param array\n",
        "    :return reshaped array\n",
        "    \"\"\"\n",
        "    return array.reshape(1, 3, 3, 1)\n",
        "\n",
        "print(create_3D_array())"
      ]
    },
    {
      "cell_type": "code",
      "execution_count": null,
      "metadata": {
        "id": "1hbYwmm-DrAq"
      },
      "outputs": [],
      "source": [
        "# 7. Which symbol returns a remainder?\n",
        "%"
      ]
    },
    {
      "cell_type": "code",
      "execution_count": null,
      "metadata": {
        "id": "VQi8-TRVDxd-"
      },
      "outputs": [],
      "source": [
        "# 8. Create a function that prints out only odd numbers,\n",
        "odd_numbers = lambda x: x % 2 != 0\n",
        "for number in range(1, 10):\n",
        "    if odd_numbers(number):\n",
        "        print(number)"
      ]
    },
    {
      "cell_type": "code",
      "execution_count": null,
      "metadata": {
        "id": "hjONNaj4D1tc"
      },
      "outputs": [],
      "source": [
        "# 9. Which statement gives you a syntax error?\n",
        "# return True\n"
      ]
    },
    {
      "cell_type": "code",
      "execution_count": null,
      "metadata": {
        "id": "bctW-pFXD6nq"
      },
      "outputs": [],
      "source": [
        "# 10. Create a list and find the total sum of the list.\n",
        "def sum_list(array: list) -> int:\n",
        "    \"\"\"\n",
        "    This function takes in a list and returns the sum of the list.\n",
        "    :param array\n",
        "    :return sum of the list\n",
        "    \"\"\"\n",
        "    return sum(array)\n",
        "\n",
        "def create_list() -> list:\n",
        "    import random\n",
        "    \"\"\"\n",
        "    This function creates a list.\n",
        "    :return list\n",
        "    \"\"\"\n",
        "    return [random.randint(1, 100) for _ in range(10)]\n",
        "\n",
        "my_list = create_list()\n",
        "print(f\"The sum of the list {my_list} is {sum_list(my_list)}\")"
      ]
    },
    {
      "cell_type": "code",
      "execution_count": null,
      "metadata": {
        "id": "8CStOlNiDHeE"
      },
      "outputs": [],
      "source": [
        "# 11. Create a \"T\" shape object using the letter \"T\"\n",
        "def create_T_shape(letter: str) -> str:\n",
        "    \"\"\"\n",
        "    This function creates a \"T\" shape object.\n",
        "    :param letter\n",
        "    :return \"T\" shape object\n",
        "    \"\"\"\n",
        "    output = \"\"\n",
        "    for i in range(8):\n",
        "        if i == 0:\n",
        "            output += f\"{letter} \" * 7\n",
        "        else:\n",
        "            output += \"      \" + letter + \"      \"\n",
        "        output += \"\\n\"\n",
        "    return output\n",
        "\n",
        "print(create_T_shape(\"T\"))"
      ]
    }
  ],
  "metadata": {
    "colab": {
      "name": "Copy of cit_quiz_thursday.ipynb",
      "provenance": []
    },
    "interpreter": {
      "hash": "dcacb0086e9a4f4eabd41c33bf4faac5ea0a3337ed3f5eff0680afa930572c04"
    },
    "kernelspec": {
      "display_name": "Python 3.9.9 64-bit",
      "language": "python",
      "name": "python3"
    },
    "language_info": {
      "codemirror_mode": {
        "name": "ipython",
        "version": 3
      },
      "file_extension": ".py",
      "mimetype": "text/x-python",
      "name": "python",
      "nbconvert_exporter": "python",
      "pygments_lexer": "ipython3",
      "version": "3.9.9"
    },
    "orig_nbformat": 4
  },
  "nbformat": 4,
  "nbformat_minor": 0
}
